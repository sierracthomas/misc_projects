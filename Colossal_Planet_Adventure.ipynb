{
  "nbformat": 4,
  "nbformat_minor": 0,
  "metadata": {
    "colab": {
      "name": "Colossal Planet Adventure",
      "provenance": [],
      "collapsed_sections": [],
      "authorship_tag": "ABX9TyPDVdtJZ0OESg5rDQWcHqCY",
      "include_colab_link": true
    },
    "kernelspec": {
      "name": "python3",
      "display_name": "Python 3"
    }
  },
  "cells": [
    {
      "cell_type": "markdown",
      "metadata": {
        "id": "view-in-github",
        "colab_type": "text"
      },
      "source": [
        "<a href=\"https://colab.research.google.com/github/sierracthomas/misc_projects/blob/master/Colossal_Planet_Adventure.ipynb\" target=\"_parent\"><img src=\"https://colab.research.google.com/assets/colab-badge.svg\" alt=\"Open In Colab\"/></a>"
      ]
    },
    {
      "cell_type": "markdown",
      "metadata": {
        "id": "Hut9uTsZyifQ"
      },
      "source": [
        ""
      ]
    },
    {
      "cell_type": "markdown",
      "metadata": {
        "id": "rstwSti0bRMq"
      },
      "source": [
        "Instructions will go here\n",
        "\n",
        "please see my repo on github for sources\n",
        " - Structure of game:\n",
        "  - people will get a description of landing on a planet. the planet will be described with *setting*. \n",
        "  - let's have three main areas. A mountain (*maybe vegetation or anything else*), a crater (*with or without water or chemicals*), and a cliff. \n",
        "  - player can walk to any of the three locations and \"inspect\". A randomized location will have a special tool to inspect the terrain. Each one can come with a preset (*or one or two tools*). \n",
        "  - player can use compass to determine magnetic field\n",
        "  - player can see stars/energy source on top of mountain \n",
        "  - player can take temperature of planet\n",
        "  - player may experience earthquakes standing by the cliff. this used to be ocean dropoff, so may be fossils. or salt. \n",
        "  - Occasionally, the player is not equipped with the right outfit and tools and dies immediately haha. this will happen if no atmosphere. let's make this very unlikely\n",
        "  - game asks, is life likely? y or n then you win or lose\n",
        "  - github will have sources cited, instructions, and my notes\n",
        "\n",
        "- structure of program\n",
        "  - append randomness to list, then check to see if anything can support life. this can determine answers/let people go back, start with an empty list\n",
        "  - add random numbers to each slot on list. from 0-3\n",
        "  - each slot on list will be used as argument to input\n",
        "  - list does not change so we can go back. if player says \"cliff\", call the \"cliff\" function with the correct argument. \n",
        "  - when player says \"guess\", then the game will ask if there is life. if every element in list adds up to some number, likely life. \n",
        "  - can we print out the reasons there are life? Maybe? substitute elements of list with the things we know to be true. maybe we need a dictionary to pair them  - we do. Compare elements of list to dictionary (or another list) and 10/10, then print \n",
        "\n",
        "\n"
      ]
    },
    {
      "cell_type": "code",
      "metadata": {
        "colab": {
          "base_uri": "https://localhost:8080/",
          "height": 800
        },
        "id": "jLLuNTU4bMnL",
        "outputId": "57e2fb89-36db-42a4-9608-1fea31b13498"
      },
      "source": [
        "import random\n",
        "import time\n",
        "\n",
        "## Setting info\n",
        "# Generate list that will determine setting.\n",
        "name = str(input(\"What is your name? \"))\n",
        "setting_list = []\n",
        "for i in range(0,5):\n",
        "  setting_list.append(random.randint(0,3))\n",
        "\n",
        "# Dictionary for descriptors of the planet\n",
        "descriptor_dict = {0: \"green, with light blue clouds. \", 1: \"red, with a slight breeze. \", 2: \"very cold. \"}\n",
        "\n",
        "## Dictionaries for actions\n",
        "# Dictionary for compass reading\n",
        "compass_dict = {0: \"Your compass points north. \", 1: \"Your compass does not change as you spin it. \", 2: \"Your compass is broken, unfortunately. \"}\n",
        "# Dictionary for energy source\n",
        "energy_dict = {0: \"The sky is dark. \", 1: \"There are two bright suns. \", 2: \"There is a sun out in the distance. \"}\n",
        "# Dictionary for temperature\n",
        "temp_dict = {0: \"10c. \", 1: \"300c. \", 2: \"2c. \"}\n",
        "\n",
        "# Life list info\n",
        "# Generate list that will determine life factors.\n",
        "# Slot 0 is compass, \n",
        "life_list = []\n",
        "for i in range(0,4):\n",
        "  life_list.append(random.randint(0,3))\n",
        "\n",
        "# Now we need functions for actions\n",
        "  def check_compass():\n",
        "    print(\"Checking compass. \")\n",
        "    time.sleep(.5)\n",
        "    print(compass_dict[life_list[0]])\n",
        "  \n",
        "  def check_energy_source():\n",
        "    print(\"Checking energy source. \")\n",
        "    time.sleep(.5)\n",
        "    print(energy_dict[life_list[1]])\n",
        "\n",
        "  def check_temperature():\n",
        "    print(\"Checking temperature. \")\n",
        "    time.sleep(.5)\n",
        "    print(temp_dict[life_list[2]])\n",
        "  \n",
        "# Floor stability can only be checked at cliff, so this will be inside cliff loop\n",
        "  def check_floor_stability():\n",
        "    print(\"Checking floor stability. \")\n",
        "\n",
        "# Now we need functions for locations\n",
        "  def cliff():\n",
        "    print(\"Standing at the cliff. \")\n",
        "\n",
        "  def crater():\n",
        "    print(\"Standing at the crater. \")\n",
        "\n",
        "  def mountain():\n",
        "    print(\"Standing at the mountain. \")\n",
        "\n",
        "# Introduce player to their new setting\n",
        "print(\"Welcome to your new planet,\", name,\". Your ship has crash-landed and left you stranded. \\nYou are carrying food, a thermometer, a compass, an oxygen tank, and a good book. \\nTo see what you have in your toolbelt, please type `help` at any time. \\nYou'll be here for a while.\")\n",
        "print(\"\\n \\nYou look around. The planet is\", descriptor_dict[setting_list[0]],\"To your left-hand side there is a large hill. \\nTo your right-hand side there is a cliff. In front of you there is a deep crater. \")\n",
        "\n",
        "# Enter while loop. Once broken, game ends.\n",
        "# will take user inputs for location. after location, can do actions. \n",
        "# can do temp anywhere, can do compass anywhere. \n",
        "# can only do energy on hill. can only do floor stability on cliff. \n",
        "\n",
        "\n",
        "def main():\n",
        "  user_input = \"running\"\n",
        "  while not user_input.lower == \"done\":\n",
        "    user_input = input(\"Where would you like to go? \")\n",
        "    if user_input.lower() == \"cliff\":\n",
        "      cliff()\n",
        "      action = input(\"Would you like to do anything here? \")\n",
        "      if action.lower() == \"yes\":\n",
        "        print(\"cool\")\n",
        "    if user_input.lower() == \"crater\":\n",
        "      crater()\n",
        "    if user_input.lower() == \"mountain\":\n",
        "      mountain()\n",
        "    if user_input.lower() == \"help\":\n",
        "      print(\"You are carrying food, a thermometer, a compass, an oxygen tank, and a good book. \")\n",
        "    else:\n",
        "      user_input = \"done\"\n",
        "\n",
        "main()\n",
        "#  else: \n",
        "#    print(\"That's not an answer, silly! \")\n",
        "#    time.sleep(5)\n",
        "#    print(\"...\")\n",
        "\n",
        "\n",
        "\n"
      ],
      "execution_count": 83,
      "outputs": [
        {
          "output_type": "stream",
          "text": [
            "What is your name? \n",
            "Welcome to your new planet,  . Your ship has crash-landed and left you stranded. \n",
            "You are carrying food, a thermometer, a compass, an oxygen tank, and a good book. \n",
            "To see what you have in your toolbelt, please type `help` at any time. \n",
            "You'll be here for a while.\n",
            "\n",
            " \n",
            "You look around. The planet is red, with a slight breeze.  To your left-hand side there is a large hill. \n",
            "To your right-hand side there is a cliff. In front of you there is a deep crater. \n",
            "Where would you like to go? done\n",
            "Where would you like to go? xone\n",
            "Where would you like to go? done\n",
            "Where would you like to go? cliff\n",
            "Standing at the cliff. \n",
            "Would you like to do anything here? yes\n",
            "cool\n"
          ],
          "name": "stdout"
        },
        {
          "output_type": "error",
          "ename": "KeyboardInterrupt",
          "evalue": "ignored",
          "traceback": [
            "\u001b[0;31m---------------------------------------------------------------------------\u001b[0m",
            "\u001b[0;31mKeyboardInterrupt\u001b[0m                         Traceback (most recent call last)",
            "\u001b[0;32m/usr/local/lib/python3.7/dist-packages/ipykernel/kernelbase.py\u001b[0m in \u001b[0;36m_input_request\u001b[0;34m(self, prompt, ident, parent, password)\u001b[0m\n\u001b[1;32m    728\u001b[0m             \u001b[0;32mtry\u001b[0m\u001b[0;34m:\u001b[0m\u001b[0;34m\u001b[0m\u001b[0;34m\u001b[0m\u001b[0m\n\u001b[0;32m--> 729\u001b[0;31m                 \u001b[0mident\u001b[0m\u001b[0;34m,\u001b[0m \u001b[0mreply\u001b[0m \u001b[0;34m=\u001b[0m \u001b[0mself\u001b[0m\u001b[0;34m.\u001b[0m\u001b[0msession\u001b[0m\u001b[0;34m.\u001b[0m\u001b[0mrecv\u001b[0m\u001b[0;34m(\u001b[0m\u001b[0mself\u001b[0m\u001b[0;34m.\u001b[0m\u001b[0mstdin_socket\u001b[0m\u001b[0;34m,\u001b[0m \u001b[0;36m0\u001b[0m\u001b[0;34m)\u001b[0m\u001b[0;34m\u001b[0m\u001b[0;34m\u001b[0m\u001b[0m\n\u001b[0m\u001b[1;32m    730\u001b[0m             \u001b[0;32mexcept\u001b[0m \u001b[0mException\u001b[0m\u001b[0;34m:\u001b[0m\u001b[0;34m\u001b[0m\u001b[0;34m\u001b[0m\u001b[0m\n",
            "\u001b[0;32m/usr/local/lib/python3.7/dist-packages/jupyter_client/session.py\u001b[0m in \u001b[0;36mrecv\u001b[0;34m(self, socket, mode, content, copy)\u001b[0m\n\u001b[1;32m    802\u001b[0m         \u001b[0;32mtry\u001b[0m\u001b[0;34m:\u001b[0m\u001b[0;34m\u001b[0m\u001b[0;34m\u001b[0m\u001b[0m\n\u001b[0;32m--> 803\u001b[0;31m             \u001b[0mmsg_list\u001b[0m \u001b[0;34m=\u001b[0m \u001b[0msocket\u001b[0m\u001b[0;34m.\u001b[0m\u001b[0mrecv_multipart\u001b[0m\u001b[0;34m(\u001b[0m\u001b[0mmode\u001b[0m\u001b[0;34m,\u001b[0m \u001b[0mcopy\u001b[0m\u001b[0;34m=\u001b[0m\u001b[0mcopy\u001b[0m\u001b[0;34m)\u001b[0m\u001b[0;34m\u001b[0m\u001b[0;34m\u001b[0m\u001b[0m\n\u001b[0m\u001b[1;32m    804\u001b[0m         \u001b[0;32mexcept\u001b[0m \u001b[0mzmq\u001b[0m\u001b[0;34m.\u001b[0m\u001b[0mZMQError\u001b[0m \u001b[0;32mas\u001b[0m \u001b[0me\u001b[0m\u001b[0;34m:\u001b[0m\u001b[0;34m\u001b[0m\u001b[0;34m\u001b[0m\u001b[0m\n",
            "\u001b[0;32m/usr/local/lib/python3.7/dist-packages/zmq/sugar/socket.py\u001b[0m in \u001b[0;36mrecv_multipart\u001b[0;34m(self, flags, copy, track)\u001b[0m\n\u001b[1;32m    582\u001b[0m         \"\"\"\n\u001b[0;32m--> 583\u001b[0;31m         \u001b[0mparts\u001b[0m \u001b[0;34m=\u001b[0m \u001b[0;34m[\u001b[0m\u001b[0mself\u001b[0m\u001b[0;34m.\u001b[0m\u001b[0mrecv\u001b[0m\u001b[0;34m(\u001b[0m\u001b[0mflags\u001b[0m\u001b[0;34m,\u001b[0m \u001b[0mcopy\u001b[0m\u001b[0;34m=\u001b[0m\u001b[0mcopy\u001b[0m\u001b[0;34m,\u001b[0m \u001b[0mtrack\u001b[0m\u001b[0;34m=\u001b[0m\u001b[0mtrack\u001b[0m\u001b[0;34m)\u001b[0m\u001b[0;34m]\u001b[0m\u001b[0;34m\u001b[0m\u001b[0;34m\u001b[0m\u001b[0m\n\u001b[0m\u001b[1;32m    584\u001b[0m         \u001b[0;31m# have first part already, only loop while more to receive\u001b[0m\u001b[0;34m\u001b[0m\u001b[0;34m\u001b[0m\u001b[0;34m\u001b[0m\u001b[0m\n",
            "\u001b[0;32mzmq/backend/cython/socket.pyx\u001b[0m in \u001b[0;36mzmq.backend.cython.socket.Socket.recv\u001b[0;34m()\u001b[0m\n",
            "\u001b[0;32mzmq/backend/cython/socket.pyx\u001b[0m in \u001b[0;36mzmq.backend.cython.socket.Socket.recv\u001b[0;34m()\u001b[0m\n",
            "\u001b[0;32mzmq/backend/cython/socket.pyx\u001b[0m in \u001b[0;36mzmq.backend.cython.socket._recv_copy\u001b[0;34m()\u001b[0m\n",
            "\u001b[0;32m/usr/local/lib/python3.7/dist-packages/zmq/backend/cython/checkrc.pxd\u001b[0m in \u001b[0;36mzmq.backend.cython.checkrc._check_rc\u001b[0;34m()\u001b[0m\n",
            "\u001b[0;31mKeyboardInterrupt\u001b[0m: ",
            "\nDuring handling of the above exception, another exception occurred:\n",
            "\u001b[0;31mKeyboardInterrupt\u001b[0m                         Traceback (most recent call last)",
            "\u001b[0;32m<ipython-input-83-a2bb700784c3>\u001b[0m in \u001b[0;36m<module>\u001b[0;34m()\u001b[0m\n\u001b[1;32m     85\u001b[0m       \u001b[0muser_input\u001b[0m \u001b[0;34m=\u001b[0m \u001b[0;34m\"done\"\u001b[0m\u001b[0;34m\u001b[0m\u001b[0;34m\u001b[0m\u001b[0m\n\u001b[1;32m     86\u001b[0m \u001b[0;34m\u001b[0m\u001b[0m\n\u001b[0;32m---> 87\u001b[0;31m \u001b[0mmain\u001b[0m\u001b[0;34m(\u001b[0m\u001b[0;34m)\u001b[0m\u001b[0;34m\u001b[0m\u001b[0;34m\u001b[0m\u001b[0m\n\u001b[0m\u001b[1;32m     88\u001b[0m \u001b[0;31m#  else:\u001b[0m\u001b[0;34m\u001b[0m\u001b[0;34m\u001b[0m\u001b[0;34m\u001b[0m\u001b[0m\n\u001b[1;32m     89\u001b[0m \u001b[0;31m#    print(\"That's not an answer, silly! \")\u001b[0m\u001b[0;34m\u001b[0m\u001b[0;34m\u001b[0m\u001b[0;34m\u001b[0m\u001b[0m\n",
            "\u001b[0;32m<ipython-input-83-a2bb700784c3>\u001b[0m in \u001b[0;36mmain\u001b[0;34m()\u001b[0m\n\u001b[1;32m     70\u001b[0m   \u001b[0muser_input\u001b[0m \u001b[0;34m=\u001b[0m \u001b[0;34m\"running\"\u001b[0m\u001b[0;34m\u001b[0m\u001b[0;34m\u001b[0m\u001b[0m\n\u001b[1;32m     71\u001b[0m   \u001b[0;32mwhile\u001b[0m \u001b[0;32mnot\u001b[0m \u001b[0muser_input\u001b[0m\u001b[0;34m.\u001b[0m\u001b[0mlower\u001b[0m \u001b[0;34m==\u001b[0m \u001b[0;34m\"done\"\u001b[0m\u001b[0;34m:\u001b[0m\u001b[0;34m\u001b[0m\u001b[0;34m\u001b[0m\u001b[0m\n\u001b[0;32m---> 72\u001b[0;31m     \u001b[0muser_input\u001b[0m \u001b[0;34m=\u001b[0m \u001b[0minput\u001b[0m\u001b[0;34m(\u001b[0m\u001b[0;34m\"Where would you like to go? \"\u001b[0m\u001b[0;34m)\u001b[0m\u001b[0;34m\u001b[0m\u001b[0;34m\u001b[0m\u001b[0m\n\u001b[0m\u001b[1;32m     73\u001b[0m     \u001b[0;32mif\u001b[0m \u001b[0muser_input\u001b[0m\u001b[0;34m.\u001b[0m\u001b[0mlower\u001b[0m\u001b[0;34m(\u001b[0m\u001b[0;34m)\u001b[0m \u001b[0;34m==\u001b[0m \u001b[0;34m\"cliff\"\u001b[0m\u001b[0;34m:\u001b[0m\u001b[0;34m\u001b[0m\u001b[0;34m\u001b[0m\u001b[0m\n\u001b[1;32m     74\u001b[0m       \u001b[0mcliff\u001b[0m\u001b[0;34m(\u001b[0m\u001b[0;34m)\u001b[0m\u001b[0;34m\u001b[0m\u001b[0;34m\u001b[0m\u001b[0m\n",
            "\u001b[0;32m/usr/local/lib/python3.7/dist-packages/ipykernel/kernelbase.py\u001b[0m in \u001b[0;36mraw_input\u001b[0;34m(self, prompt)\u001b[0m\n\u001b[1;32m    702\u001b[0m             \u001b[0mself\u001b[0m\u001b[0;34m.\u001b[0m\u001b[0m_parent_ident\u001b[0m\u001b[0;34m,\u001b[0m\u001b[0;34m\u001b[0m\u001b[0;34m\u001b[0m\u001b[0m\n\u001b[1;32m    703\u001b[0m             \u001b[0mself\u001b[0m\u001b[0;34m.\u001b[0m\u001b[0m_parent_header\u001b[0m\u001b[0;34m,\u001b[0m\u001b[0;34m\u001b[0m\u001b[0;34m\u001b[0m\u001b[0m\n\u001b[0;32m--> 704\u001b[0;31m             \u001b[0mpassword\u001b[0m\u001b[0;34m=\u001b[0m\u001b[0;32mFalse\u001b[0m\u001b[0;34m,\u001b[0m\u001b[0;34m\u001b[0m\u001b[0;34m\u001b[0m\u001b[0m\n\u001b[0m\u001b[1;32m    705\u001b[0m         )\n\u001b[1;32m    706\u001b[0m \u001b[0;34m\u001b[0m\u001b[0m\n",
            "\u001b[0;32m/usr/local/lib/python3.7/dist-packages/ipykernel/kernelbase.py\u001b[0m in \u001b[0;36m_input_request\u001b[0;34m(self, prompt, ident, parent, password)\u001b[0m\n\u001b[1;32m    732\u001b[0m             \u001b[0;32mexcept\u001b[0m \u001b[0mKeyboardInterrupt\u001b[0m\u001b[0;34m:\u001b[0m\u001b[0;34m\u001b[0m\u001b[0;34m\u001b[0m\u001b[0m\n\u001b[1;32m    733\u001b[0m                 \u001b[0;31m# re-raise KeyboardInterrupt, to truncate traceback\u001b[0m\u001b[0;34m\u001b[0m\u001b[0;34m\u001b[0m\u001b[0;34m\u001b[0m\u001b[0m\n\u001b[0;32m--> 734\u001b[0;31m                 \u001b[0;32mraise\u001b[0m \u001b[0mKeyboardInterrupt\u001b[0m\u001b[0;34m\u001b[0m\u001b[0;34m\u001b[0m\u001b[0m\n\u001b[0m\u001b[1;32m    735\u001b[0m             \u001b[0;32melse\u001b[0m\u001b[0;34m:\u001b[0m\u001b[0;34m\u001b[0m\u001b[0;34m\u001b[0m\u001b[0m\n\u001b[1;32m    736\u001b[0m                 \u001b[0;32mbreak\u001b[0m\u001b[0;34m\u001b[0m\u001b[0;34m\u001b[0m\u001b[0m\n",
            "\u001b[0;31mKeyboardInterrupt\u001b[0m: "
          ]
        }
      ]
    },
    {
      "cell_type": "markdown",
      "metadata": {
        "id": "QKKJJtXRbP-z"
      },
      "source": [
        "notes for useful things\n",
        "\n",
        "# turns everything lowercase for ease\n",
        "input(variable)\n",
        "if variable.lower() == 'yes':\n"
      ]
    }
  ]
}