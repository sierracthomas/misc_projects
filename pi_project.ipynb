{
  "nbformat": 4,
  "nbformat_minor": 0,
  "metadata": {
    "colab": {
      "name": "pi_project",
      "version": "0.3.2",
      "provenance": [],
      "collapsed_sections": []
    },
    "kernelspec": {
      "name": "python3",
      "display_name": "Python 3"
    }
  },
  "cells": [
    {
      "metadata": {
        "id": "cSrjp9-olpSS",
        "colab_type": "code",
        "colab": {}
      },
      "cell_type": "code",
      "source": [
        "import random\n",
        "import math \n",
        "import matplotlib.pyplot as plt\n",
        "\n",
        "trials = int(input(\"Number of trials: \"))\n",
        "accuracy_list = []\n",
        "darts_list = [] \n",
        "\n",
        "a = 0\n",
        "while a < trials:\n",
        "  a = a + 1 \n",
        "  \n",
        "  number_darts = int(input(\"\\nTotal number of darts: \"))\n",
        "  darts_list.append(number_darts)\n",
        "  darts_thrown = 0\n",
        "  in_circle = 0\n",
        "  \n",
        "  while darts_thrown < number_darts:\n",
        "    darts_thrown += 1\n",
        "    x = random.random()\n",
        "    y = random.random()\n",
        "\n",
        "    if x*x + y*y < 1:\n",
        "      in_circle += 1\n",
        "  \n",
        "  pi_value = (in_circle * 4.0)/number_darts\n",
        "  print(\"Your value of pi: \" + str(pi_value))\n",
        "  \n",
        "  percent_error = abs((pi_value - math.pi)/math.pi) * 100.0\n",
        "  accuracy_list.append(percent_error)\n",
        "  print(\"% error between your value of pi: \" + str(percent_error) + \"% \")\n",
        " \n",
        "\n",
        "\n",
        "plt.scatter(darts_list,accuracy_list) \n",
        "plt.title(\"Relationship between the number of darts and the percent error\")\n",
        "plt.xlabel(\"Number of darts\")\n",
        "plt.ylabel(\"Percent error\")\n",
        "plt.yscale(\"log\")\n",
        "plt.xscale(\"log\")\n",
        "plt.ylim(1.0e-6, 1.0e3)\n",
        "plt.show()\n",
        "\n",
        "\n",
        "\n"
      ],
      "execution_count": 0,
      "outputs": []
    }
  ]
}