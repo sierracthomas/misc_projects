{
  "nbformat": 4,
  "nbformat_minor": 0,
  "metadata": {
    "colab": {
      "name": "sample_h5_script.ipynb",
      "provenance": [],
      "authorship_tag": "ABX9TyMUgSvdPA535n2+7PMOQKox"
    },
    "kernelspec": {
      "name": "python3",
      "display_name": "Python 3"
    },
    "language_info": {
      "name": "python"
    }
  },
  "cells": [
    {
      "cell_type": "markdown",
      "metadata": {
        "id": "jJo5goEF1Zv2"
      },
      "source": [
        "# Importing and looking through data\n",
        "\n",
        "Start by importing the `h5py` module and adding the path to the desired file. The `'a'` option allows you to read, write, or create the file. See [documentation here](https://docs.h5py.org/en/stable/quick.html) for other options."
      ]
    },
    {
      "cell_type": "code",
      "metadata": {
        "id": "h2jYY_mJvyWc"
      },
      "source": [
        "import h5py\n",
        "\n",
        "f = h5py.File('OTVolume0.h5','a')"
      ],
      "execution_count": 2,
      "outputs": []
    },
    {
      "cell_type": "markdown",
      "metadata": {
        "id": "631oIaJX2zhl"
      },
      "source": [
        "`keys()` lets you look at the data sets available in the file."
      ]
    },
    {
      "cell_type": "code",
      "metadata": {
        "colab": {
          "base_uri": "https://localhost:8080/"
        },
        "id": "0jFBAG3Dy3rC",
        "outputId": "14d935cf-6ed2-4656-9738-c470d295e676"
      },
      "source": [
        "f.keys()"
      ],
      "execution_count": 4,
      "outputs": [
        {
          "output_type": "execute_result",
          "data": {
            "text/plain": [
              "<KeysViewHDF5 ['VolumeData.vol', 'src.tar.gz']>"
            ]
          },
          "metadata": {
            "tags": []
          },
          "execution_count": 4
        }
      ]
    },
    {
      "cell_type": "markdown",
      "metadata": {
        "id": "6yUPXoBT3nwu"
      },
      "source": [
        "You can use the `keys()` to look at any level in the file. "
      ]
    },
    {
      "cell_type": "code",
      "metadata": {
        "colab": {
          "base_uri": "https://localhost:8080/"
        },
        "id": "tBnYe56-2hiU",
        "outputId": "c0648149-776e-4b51-de83-90d54db0eec0"
      },
      "source": [
        "print(f['VolumeData.vol']['ObservationId9997075722878129356'].keys())"
      ],
      "execution_count": 15,
      "outputs": [
        {
          "output_type": "stream",
          "text": [
            "<KeysViewHDF5 ['InertialCoordinates_x', 'InertialCoordinates_y', 'InertialCoordinates_z', 'RestMassDensity', 'TildeD', 'bases', 'connectivity', 'grid_names', 'quadratures', 'total_extents']>\n"
          ],
          "name": "stdout"
        }
      ]
    },
    {
      "cell_type": "markdown",
      "metadata": {
        "id": "72wC4_sc34rs"
      },
      "source": [
        "The following line is equivalent to doing `h5ls OTVolume0.h5/VolumeData.vol/ObservationId9997075722878129356/TildeD` on the command line."
      ]
    },
    {
      "cell_type": "code",
      "metadata": {
        "colab": {
          "base_uri": "https://localhost:8080/"
        },
        "id": "2Bc_jE9g279q",
        "outputId": "a2d3bdbf-bb79-4990-9e5c-b439c380763d"
      },
      "source": [
        "print(f['VolumeData.vol']['ObservationId9997075722878129356']['TildeD'])"
      ],
      "execution_count": 16,
      "outputs": [
        {
          "output_type": "stream",
          "text": [
            "<HDF5 dataset \"TildeD\": shape (5832,), type \"<f8\">\n"
          ],
          "name": "stdout"
        }
      ]
    },
    {
      "cell_type": "markdown",
      "metadata": {
        "id": "m_vFcJmP5pGs"
      },
      "source": [
        "Close the file when you are done."
      ]
    },
    {
      "cell_type": "code",
      "metadata": {
        "id": "L-TDgeqN5rlJ"
      },
      "source": [
        "f.close()"
      ],
      "execution_count": 19,
      "outputs": []
    },
    {
      "cell_type": "markdown",
      "metadata": {
        "id": "CX8kobLc4KaU"
      },
      "source": [
        "# Creating groups\n",
        "To make your own group, first create the data (or skip this step to use data from elsewhere)"
      ]
    },
    {
      "cell_type": "code",
      "metadata": {
        "id": "RbHszMtw3lCE"
      },
      "source": [
        "import numpy as np\n",
        "new_data = np.zeros(shape=(1000,))"
      ],
      "execution_count": 17,
      "outputs": []
    },
    {
      "cell_type": "markdown",
      "metadata": {
        "id": "IE4NOr5d536T"
      },
      "source": [
        "Open the file again in the `'a'` or `'w'` mode."
      ]
    },
    {
      "cell_type": "code",
      "metadata": {
        "id": "BrTsOeAt5ws-"
      },
      "source": [
        "f = h5py.File('OTVolume0.h5', 'a')"
      ],
      "execution_count": 21,
      "outputs": []
    },
    {
      "cell_type": "markdown",
      "metadata": {
        "id": "rhGdB55x6IDk"
      },
      "source": [
        "The following step creates a dataset using the data. First, add the path to where you would like the data to appear, and set `data` equal to your data. \n"
      ]
    },
    {
      "cell_type": "code",
      "metadata": {
        "colab": {
          "base_uri": "https://localhost:8080/"
        },
        "id": "4xzgdpy25c9t",
        "outputId": "42f88754-ff93-4de0-b810-b98d18abce7e"
      },
      "source": [
        "dset1 = f.create_dataset('/VolumeData.vol/ObservationId9997075722878129356/TildePhi', data=new_data)\n",
        "\n",
        "print(dset1.name)"
      ],
      "execution_count": 40,
      "outputs": [
        {
          "output_type": "stream",
          "text": [
            "/VolumeData.vol/ObservationId9997075722878129356/TildePhi\n"
          ],
          "name": "stdout"
        }
      ]
    },
    {
      "cell_type": "markdown",
      "metadata": {
        "id": "ee_jUg9w79I0"
      },
      "source": [
        "Close the file when you are done."
      ]
    },
    {
      "cell_type": "code",
      "metadata": {
        "id": "yvWyzLRB7_CD"
      },
      "source": [
        "f.close()"
      ],
      "execution_count": 24,
      "outputs": []
    },
    {
      "cell_type": "markdown",
      "metadata": {
        "id": "HKnnpfv77bXJ"
      },
      "source": [
        "# Creating softlinks\n",
        "\n",
        "Use the following syntax to create softlinks between datasets (I used this when I wanted to name a dataset something else but wanted to preserve the original data). The left-hand side is the existing name/path, and the right hand side is where the you would like the data to go."
      ]
    },
    {
      "cell_type": "code",
      "metadata": {
        "id": "W_ZsGqCH7We9"
      },
      "source": [
        "f = h5py.File(\"OTVolume0.h5\", 'a')\n",
        "\n",
        "f['VolumeData.vol']['ObservationId9997075722878129356']['RestMassDensity'] = h5py.SoftLink('/VolumeData.vol/ObservationId9997075722878129356/RMD')\n",
        "\n",
        "f.close()"
      ],
      "execution_count": null,
      "outputs": []
    },
    {
      "cell_type": "markdown",
      "metadata": {
        "id": "1VQjwmeeCJSm"
      },
      "source": [
        "Here, we can test to make sure the softlink was created."
      ]
    },
    {
      "cell_type": "code",
      "metadata": {
        "colab": {
          "base_uri": "https://localhost:8080/"
        },
        "id": "ttUM5ZZr8LsJ",
        "outputId": "157d27da-e1ec-4051-962e-f292832ff99d"
      },
      "source": [
        "print(f['VolumeData.vol']['ObservationId9997075722878129356']['RMD'])"
      ],
      "execution_count": 39,
      "outputs": [
        {
          "output_type": "stream",
          "text": [
            "<HDF5 dataset \"RMD\": shape (5832,), type \"<f8\">\n"
          ],
          "name": "stdout"
        }
      ]
    },
    {
      "cell_type": "markdown",
      "metadata": {
        "id": "Oh_S1K6wCN9I"
      },
      "source": [
        "Don't forget to close the file."
      ]
    },
    {
      "cell_type": "code",
      "metadata": {
        "id": "p-mRE8F28hX5"
      },
      "source": [
        "f.close()"
      ],
      "execution_count": 42,
      "outputs": []
    },
    {
      "cell_type": "code",
      "metadata": {
        "id": "sPaQ4v3YCEsE"
      },
      "source": [
        ""
      ],
      "execution_count": null,
      "outputs": []
    }
  ]
}