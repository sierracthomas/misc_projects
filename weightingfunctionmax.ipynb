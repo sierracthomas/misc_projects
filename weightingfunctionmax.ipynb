{
  "nbformat": 4,
  "nbformat_minor": 0,
  "metadata": {
    "colab": {
      "name": "weightingfunctionmax.ipynb",
      "provenance": [],
      "collapsed_sections": [],
      "authorship_tag": "ABX9TyN6mbk4oS0UON6/K8P3DFzy",
      "include_colab_link": true
    },
    "kernelspec": {
      "name": "python3",
      "display_name": "Python 3"
    },
    "language_info": {
      "name": "python"
    }
  },
  "cells": [
    {
      "cell_type": "markdown",
      "metadata": {
        "id": "view-in-github",
        "colab_type": "text"
      },
      "source": [
        "<a href=\"https://colab.research.google.com/github/sierracthomas/misc_projects/blob/master/weightingfunctionmax.ipynb\" target=\"_parent\"><img src=\"https://colab.research.google.com/assets/colab-badge.svg\" alt=\"Open In Colab\"/></a>"
      ]
    },
    {
      "cell_type": "code",
      "execution_count": 1,
      "metadata": {
        "id": "Vq2S-_z1YHo1"
      },
      "outputs": [],
      "source": [
        "import numpy as np\n",
        "import re"
      ]
    },
    {
      "cell_type": "markdown",
      "source": [
        "Change filename to match yours\n",
        "\n",
        "change `text_file_length` (find yours by doing `wc -l <text file name> on terminal`)\n",
        "\n"
      ],
      "metadata": {
        "id": "giTvSc15BSAy"
      }
    },
    {
      "cell_type": "code",
      "source": [
        "file1 = open('538_list_4_coin_type.txt', 'r')\n",
        "count = 0\n",
        "line = 0\n",
        "coin_jar = []\n",
        "\n",
        "text_file_length = 23089\n",
        "\n",
        "lines = file1.readlines()\n",
        "\n",
        "for line in lines:\n",
        "  split_line = line.split()\n",
        "  coin_jar.append(split_line)\n",
        "  count += 1\n",
        "\n",
        "array = np.array(coin_jar)\n",
        "\n",
        "np.reshape(array, (text_file_length, 8))\n",
        "\n",
        "file1.close()\n",
        "\n",
        "\n",
        "arr = (array[::1, ::2]).astype(int)\n",
        "#print(arr)\n",
        "#arr = arr[1]\n",
        "\n",
        "final_values = []\n",
        "\n",
        "m, n = text_file_length, 4\n",
        "sum = 0\n",
        "for i in range(0, m):\n",
        "  for j in range(0, n):\n",
        "    sum += arr[i][j]\n",
        "  if sum == 58:\n",
        "#    print(arr[i])\n",
        "    weight = np.math.factorial(58)/(np.math.factorial(arr[i][1]) * np.math.factorial(arr[i][2]) * np.math.factorial(arr[i][3]) * np.math.factorial(arr[i][0]))\n",
        "    print(weight)\n",
        "    print(arr[i])\n",
        "    final_values.append(weight)\n",
        "  sum = 0\n",
        "\n",
        "print(final_values)\n",
        "\n",
        "print(max(final_values))\n",
        "#print(sum)\n",
        "#print(arr)\n",
        "\n",
        "\n",
        "#print(array[1].sum())\n",
        "#for l in array:\n",
        "#  print(array.sum(axis=0))\n",
        "\n"
      ],
      "metadata": {
        "colab": {
          "base_uri": "https://localhost:8080/"
        },
        "id": "k2HRqeaZcr7L",
        "outputId": "8d712300-2d39-498f-d503-eb765f7a2be4"
      },
      "execution_count": 27,
      "outputs": [
        {
          "output_type": "stream",
          "name": "stdout",
          "text": [
            "809507160.0\n",
            "[ 0 52  3  3]\n",
            "43830765178200.0\n",
            "[ 1 48  6  3]\n",
            "2.03061673532718e+17\n",
            "[ 2 44  9  3]\n",
            "2348076705975.0\n",
            "[ 2 48  0  8]\n",
            "1.6706560753781817e+20\n",
            "[ 3 40 12  3]\n",
            "6.09185020598154e+17\n",
            "[ 3 44  3  8]\n",
            "3.355632059973891e+22\n",
            "[ 4 36 15  3]\n",
            "4.1348737865610004e+21\n",
            "[ 4 40  6  8]\n",
            "1.937877514634922e+24\n",
            "[ 5 32 18  3]\n",
            "3.598915384321998e+24\n",
            "[ 5 36  9  8]\n",
            "3.8553601739496504e+18\n",
            "[ 5 40  0 13]\n",
            "3.4930363622191376e+25\n",
            "[ 6 28 21  3]\n",
            "6.424063961014767e+26\n",
            "[ 6 32 12  8]\n",
            "2.3489424419817236e+23\n",
            "[ 6 36  3 13]\n",
            "2.0191959208480193e+26\n",
            "[ 7 24 24  3]\n",
            "2.9012162014202953e+28\n",
            "[ 7 28 15  8]\n",
            "3.953270129855241e+26\n",
            "[ 7 32  6 13]\n",
            "3.6676881803300945e+26\n",
            "[ 8 20 27  3]\n",
            "3.639853046818661e+29\n",
            "[ 8 24 18  8]\n",
            "8.461880587475862e+28\n",
            "[ 8 28  9 13]\n",
            "3.4604955618480753e+22\n",
            "[ 8 32  0 18]\n",
            "1.9452599051668646e+26\n",
            "[ 9 16 30  3]\n",
            "1.2924671169756087e+30\n",
            "[ 9 20 21  8]\n",
            "3.500141515728652e+30\n",
            "[ 9 24 12 13]\n",
            "5.530640906846968e+26\n",
            "[ 9 28  3 18]\n",
            "2.5955813983898045e+25\n",
            "[10 12 33  3]\n",
            "1.2375500359183447e+30\n",
            "[10 16 24  8]\n",
            "3.2696706590006726e+31\n",
            "[10 20 15 13]\n",
            "2.2647974513538335e+29\n",
            "[10 24  6 18]\n",
            "6.543482516949088e+23\n",
            "[11  8 36  3]\n",
            "2.8001132125829215e+29\n",
            "[11 12 27  8]\n",
            "7.059516195569635e+31\n",
            "[11 16 18 13]\n",
            "1.0418068276227634e+31\n",
            "[11 20  9 18]\n",
            "3.6712653106327626e+24\n",
            "[11 24  0 23]\n",
            "1.6706560753781818e+21\n",
            "[12  4 39  3]\n",
            "1.1379770445226159e+28\n",
            "[12  8 30  8]\n",
            "3.2201301944703595e+31\n",
            "[12 12 21 13]\n",
            "7.647809211867104e+31\n",
            "[12 16 12 18]\n",
            "1.3003621730261245e+28\n",
            "[12 20  3 23]\n",
            "4.47777023687532e+16\n",
            "[13  0 42  3]\n",
            "4.492352420290047e+25\n",
            "[13  4 33  8]\n",
            "2.423174895504451e+30\n",
            "[13  8 24 13]\n",
            "9.412688260759512e+31\n",
            "[13 12 15 18]\n",
            "9.692699582017804e+29\n",
            "[13 16  6 23]\n",
            "1.7976600321288703e+21\n",
            "[14  0 36  8]\n",
            "1.656871723421847e+28\n",
            "[14  4 27 13]\n",
            "1.6314008014971845e+31\n",
            "[14  8 18 18]\n",
            "6.000242598391974e+30\n",
            "[14 12  9 23]\n",
            "4.2267135801577726e+24\n",
            "[14 16  0 28]\n",
            "1.0882572896038403e+24\n",
            "[15  0 30 13]\n",
            "2.289685335434645e+29\n",
            "[15  4 21 18]\n",
            "3.6001455590351844e+30\n",
            "[15  8 12 23]\n",
            "2.051364990903239e+27\n",
            "[15 12  3 28]\n",
            "2.828168645546745e+25\n",
            "[16  0 24 18]\n",
            "1.3846713688596864e+29\n",
            "[16  4 15 23]\n",
            "1.2692820881213792e+28\n",
            "[16  8  6 28]\n",
            "3.992708676065993e+25\n",
            "[17  0 18 23]\n",
            "2.488788408081136e+27\n",
            "[17  4  9 28]\n",
            "1.8875430337353137e+22\n",
            "[17  8  0 33]\n",
            "2.51392768493044e+24\n",
            "[18  0 12 28]\n",
            "2.9361780524771547e+23\n",
            "[18  4  3 33]\n",
            "3.090713739449637e+21\n",
            "[19  0  6 33]\n",
            "1847253511032930.0\n",
            "[20  0  0 38]\n",
            "[809507160.0, 43830765178200.0, 2.03061673532718e+17, 2348076705975.0, 1.6706560753781817e+20, 6.09185020598154e+17, 3.355632059973891e+22, 4.1348737865610004e+21, 1.937877514634922e+24, 3.598915384321998e+24, 3.8553601739496504e+18, 3.4930363622191376e+25, 6.424063961014767e+26, 2.3489424419817236e+23, 2.0191959208480193e+26, 2.9012162014202953e+28, 3.953270129855241e+26, 3.6676881803300945e+26, 3.639853046818661e+29, 8.461880587475862e+28, 3.4604955618480753e+22, 1.9452599051668646e+26, 1.2924671169756087e+30, 3.500141515728652e+30, 5.530640906846968e+26, 2.5955813983898045e+25, 1.2375500359183447e+30, 3.2696706590006726e+31, 2.2647974513538335e+29, 6.543482516949088e+23, 2.8001132125829215e+29, 7.059516195569635e+31, 1.0418068276227634e+31, 3.6712653106327626e+24, 1.6706560753781818e+21, 1.1379770445226159e+28, 3.2201301944703595e+31, 7.647809211867104e+31, 1.3003621730261245e+28, 4.47777023687532e+16, 4.492352420290047e+25, 2.423174895504451e+30, 9.412688260759512e+31, 9.692699582017804e+29, 1.7976600321288703e+21, 1.656871723421847e+28, 1.6314008014971845e+31, 6.000242598391974e+30, 4.2267135801577726e+24, 1.0882572896038403e+24, 2.289685335434645e+29, 3.6001455590351844e+30, 2.051364990903239e+27, 2.828168645546745e+25, 1.3846713688596864e+29, 1.2692820881213792e+28, 3.992708676065993e+25, 2.488788408081136e+27, 1.8875430337353137e+22, 2.51392768493044e+24, 2.9361780524771547e+23, 3.090713739449637e+21, 1847253511032930.0]\n",
            "9.412688260759512e+31\n"
          ]
        }
      ]
    },
    {
      "cell_type": "code",
      "source": [
        "cents = 583\n",
        "denominations = [25, 10, 5, 1]\n",
        "names = {25: \"quarter(s)\", 10: \"dime(s)\", 5 : \"nickel(s)\", 1 : \"pennies\"}\n",
        "\n",
        "def count_combs(left, i, comb, add):\n",
        "    if add: comb.append(add)\n",
        "    if left == 0 or (i+1) == len(denominations):\n",
        "        if (i+1) == len(denominations) and left > 0:\n",
        "           if left % denominations[i]:\n",
        "               return 0\n",
        "           comb.append( (left/denominations[i], demoninations[i]) )\n",
        "           i += 1\n",
        "        while i < len(denominations):\n",
        "            comb.append( (0, denominations[i]) )\n",
        "            i += 1\n",
        "        print(\" \".join(\"%d %s\" % (n,names[c]) for (n,c) in comb))\n",
        "        return 1\n",
        "    cur = denominations[i]\n",
        "    return sum(count_combs(left-x*cur, i+1, comb[:], (x,cur)) for x in range(0, int(left/cur)+1))\n",
        "\n",
        "count_combs(cents, 0, [], None)\n"
      ],
      "metadata": {
        "colab": {
          "base_uri": "https://localhost:8080/",
          "height": 329
        },
        "id": "H5ptgnVg3CbD",
        "outputId": "b72c2c9d-61a0-4ca0-9e0f-b4d9350a28d8"
      },
      "execution_count": 28,
      "outputs": [
        {
          "output_type": "error",
          "ename": "TypeError",
          "evalue": "ignored",
          "traceback": [
            "\u001b[0;31m---------------------------------------------------------------------------\u001b[0m",
            "\u001b[0;31mTypeError\u001b[0m                                 Traceback (most recent call last)",
            "\u001b[0;32m<ipython-input-28-b1d99320136d>\u001b[0m in \u001b[0;36m<module>\u001b[0;34m()\u001b[0m\n\u001b[1;32m     19\u001b[0m     \u001b[0;32mreturn\u001b[0m \u001b[0msum\u001b[0m\u001b[0;34m(\u001b[0m\u001b[0mcount_combs\u001b[0m\u001b[0;34m(\u001b[0m\u001b[0mleft\u001b[0m\u001b[0;34m-\u001b[0m\u001b[0mx\u001b[0m\u001b[0;34m*\u001b[0m\u001b[0mcur\u001b[0m\u001b[0;34m,\u001b[0m \u001b[0mi\u001b[0m\u001b[0;34m+\u001b[0m\u001b[0;36m1\u001b[0m\u001b[0;34m,\u001b[0m \u001b[0mcomb\u001b[0m\u001b[0;34m[\u001b[0m\u001b[0;34m:\u001b[0m\u001b[0;34m]\u001b[0m\u001b[0;34m,\u001b[0m \u001b[0;34m(\u001b[0m\u001b[0mx\u001b[0m\u001b[0;34m,\u001b[0m\u001b[0mcur\u001b[0m\u001b[0;34m)\u001b[0m\u001b[0;34m)\u001b[0m \u001b[0;32mfor\u001b[0m \u001b[0mx\u001b[0m \u001b[0;32min\u001b[0m \u001b[0mrange\u001b[0m\u001b[0;34m(\u001b[0m\u001b[0;36m0\u001b[0m\u001b[0;34m,\u001b[0m \u001b[0mint\u001b[0m\u001b[0;34m(\u001b[0m\u001b[0mleft\u001b[0m\u001b[0;34m/\u001b[0m\u001b[0mcur\u001b[0m\u001b[0;34m)\u001b[0m\u001b[0;34m+\u001b[0m\u001b[0;36m1\u001b[0m\u001b[0;34m)\u001b[0m\u001b[0;34m)\u001b[0m\u001b[0;34m\u001b[0m\u001b[0;34m\u001b[0m\u001b[0m\n\u001b[1;32m     20\u001b[0m \u001b[0;34m\u001b[0m\u001b[0m\n\u001b[0;32m---> 21\u001b[0;31m \u001b[0mcount_combs\u001b[0m\u001b[0;34m(\u001b[0m\u001b[0mcents\u001b[0m\u001b[0;34m,\u001b[0m \u001b[0;36m0\u001b[0m\u001b[0;34m,\u001b[0m \u001b[0;34m[\u001b[0m\u001b[0;34m]\u001b[0m\u001b[0;34m,\u001b[0m \u001b[0;32mNone\u001b[0m\u001b[0;34m)\u001b[0m\u001b[0;34m\u001b[0m\u001b[0;34m\u001b[0m\u001b[0m\n\u001b[0m",
            "\u001b[0;32m<ipython-input-28-b1d99320136d>\u001b[0m in \u001b[0;36mcount_combs\u001b[0;34m(left, i, comb, add)\u001b[0m\n\u001b[1;32m     17\u001b[0m         \u001b[0;32mreturn\u001b[0m \u001b[0;36m1\u001b[0m\u001b[0;34m\u001b[0m\u001b[0;34m\u001b[0m\u001b[0m\n\u001b[1;32m     18\u001b[0m     \u001b[0mcur\u001b[0m \u001b[0;34m=\u001b[0m \u001b[0mdenominations\u001b[0m\u001b[0;34m[\u001b[0m\u001b[0mi\u001b[0m\u001b[0;34m]\u001b[0m\u001b[0;34m\u001b[0m\u001b[0;34m\u001b[0m\u001b[0m\n\u001b[0;32m---> 19\u001b[0;31m     \u001b[0;32mreturn\u001b[0m \u001b[0msum\u001b[0m\u001b[0;34m(\u001b[0m\u001b[0mcount_combs\u001b[0m\u001b[0;34m(\u001b[0m\u001b[0mleft\u001b[0m\u001b[0;34m-\u001b[0m\u001b[0mx\u001b[0m\u001b[0;34m*\u001b[0m\u001b[0mcur\u001b[0m\u001b[0;34m,\u001b[0m \u001b[0mi\u001b[0m\u001b[0;34m+\u001b[0m\u001b[0;36m1\u001b[0m\u001b[0;34m,\u001b[0m \u001b[0mcomb\u001b[0m\u001b[0;34m[\u001b[0m\u001b[0;34m:\u001b[0m\u001b[0;34m]\u001b[0m\u001b[0;34m,\u001b[0m \u001b[0;34m(\u001b[0m\u001b[0mx\u001b[0m\u001b[0;34m,\u001b[0m\u001b[0mcur\u001b[0m\u001b[0;34m)\u001b[0m\u001b[0;34m)\u001b[0m \u001b[0;32mfor\u001b[0m \u001b[0mx\u001b[0m \u001b[0;32min\u001b[0m \u001b[0mrange\u001b[0m\u001b[0;34m(\u001b[0m\u001b[0;36m0\u001b[0m\u001b[0;34m,\u001b[0m \u001b[0mint\u001b[0m\u001b[0;34m(\u001b[0m\u001b[0mleft\u001b[0m\u001b[0;34m/\u001b[0m\u001b[0mcur\u001b[0m\u001b[0;34m)\u001b[0m\u001b[0;34m+\u001b[0m\u001b[0;36m1\u001b[0m\u001b[0;34m)\u001b[0m\u001b[0;34m)\u001b[0m\u001b[0;34m\u001b[0m\u001b[0;34m\u001b[0m\u001b[0m\n\u001b[0m\u001b[1;32m     20\u001b[0m \u001b[0;34m\u001b[0m\u001b[0m\n\u001b[1;32m     21\u001b[0m \u001b[0mcount_combs\u001b[0m\u001b[0;34m(\u001b[0m\u001b[0mcents\u001b[0m\u001b[0;34m,\u001b[0m \u001b[0;36m0\u001b[0m\u001b[0;34m,\u001b[0m \u001b[0;34m[\u001b[0m\u001b[0;34m]\u001b[0m\u001b[0;34m,\u001b[0m \u001b[0;32mNone\u001b[0m\u001b[0;34m)\u001b[0m\u001b[0;34m\u001b[0m\u001b[0;34m\u001b[0m\u001b[0m\n",
            "\u001b[0;31mTypeError\u001b[0m: 'int' object is not callable"
          ]
        }
      ]
    },
    {
      "cell_type": "code",
      "source": [
        ""
      ],
      "metadata": {
        "id": "i4U4qgYNROvL"
      },
      "execution_count": 4,
      "outputs": []
    }
  ]
}